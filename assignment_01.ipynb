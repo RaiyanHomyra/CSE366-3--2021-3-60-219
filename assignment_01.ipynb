{
  "cells": [
    {
      "cell_type": "markdown",
      "source": [
        "Objective: Design and implement an advanced simulation environment for a robot\n",
        "navigating through a dynamically created grid. This project aims to deepen understanding of\n",
        "basic programming concepts, object-oriented programming (OOP), algorithms for\n",
        "navigation and pathfinding, task optimization, safety, and energy management strategies."
      ],
      "metadata": {
        "id": "uKNNV4TtAcjm"
      }
    },
    {
      "cell_type": "code",
      "execution_count": 19,
      "metadata": {
        "id": "SA-s3OSvgFyJ"
      },
      "outputs": [],
      "source": [
        "import numpy as np\n",
        "import matplotlib.pyplot as plt\n",
        "from collections import deque\n",
        "import heapq\n",
        "\n",
        "# Node Class represents a state in the search tree.\n",
        "class Node:\n",
        "    def __init__(self, state, parent=None, action=None, path_cost=0):\n",
        "        self.state = state  # The current position of the agent in the grid.\n",
        "        self.parent = parent  # The node in the search tree that generated this node.\n",
        "        self.action = action  # The action taken to get to this state.\n",
        "        self.path_cost = path_cost  # Cost from the start node to this node.\n",
        "\n",
        "    # Comparison operator for priority queue.\n",
        "    def __lt__(self, other):\n",
        "        return self.path_cost < other.path_cost"
      ]
    },
    {
      "cell_type": "markdown",
      "metadata": {
        "id": "itGWDa8kgFyK"
      },
      "source": [
        "For a star search we need to define a priority queue and heuristic. here we have taken the manhattan distance as the heuristic\n"
      ]
    },
    {
      "cell_type": "code",
      "execution_count": 20,
      "metadata": {
        "id": "U5nnK3yXgFyL"
      },
      "outputs": [],
      "source": [
        "class PriorityQueue:\n",
        "    def __init__(self):\n",
        "        self.elements = []\n",
        "\n",
        "    def empty(self):\n",
        "        return len(self.elements) == 0\n",
        "\n",
        "    def put(self, item, priority):\n",
        "        heapq.heappush(self.elements, (priority, item))\n",
        "\n",
        "    def get(self):\n",
        "        return heapq.heappop(self.elements)[1]\n",
        "def heuristic(a, b):\n",
        "    \"\"\"\n",
        "    Calculate the Manhattan distance between two points a and b.\n",
        "\n",
        "    Parameters:\n",
        "    - a: Tuple representing the x and y coordinates of point a (e.g., (x1, y1))\n",
        "    - b: Tuple representing the x and y coordinates of point b (e.g., (x2, y2))\n",
        "\n",
        "    Returns:\n",
        "    - The Manhattan distance between points a and b.\n",
        "    \"\"\"\n",
        "    (x1, y1) = a\n",
        "    (x2, y2) = b\n",
        "    return abs(x1 - x2) + abs(y1 - y2)"
      ]
    },
    {
      "cell_type": "markdown",
      "metadata": {
        "id": "uOQHNaG0gFyM"
      },
      "source": [
        "Implementation of a class Environment that generates a 10x10 grid. Dynamically\n",
        "place obstacles, a start position, and an end position within the grid."
      ]
    },
    {
      "cell_type": "code",
      "execution_count": 21,
      "metadata": {
        "id": "kXw_g4_AgFyM"
      },
      "outputs": [],
      "source": [
        "# Environment Class represents the grid and handles state transitions.\n",
        "class Environment:\n",
        "    def __init__(self, grid, start, goal):\n",
        "        self.grid = grid  # The grid layout where 1 represents an obstacle and 0 is free space.\n",
        "        self.initial = start  # Starting position of the agent.\n",
        "        self.goal = goal  # Goal position the agent aims to reach.\n",
        "\n",
        "    # Returns the possible actions from a given state.\n",
        "    def actions(self, state):\n",
        "        possible_actions = ['UP', 'DOWN', 'LEFT', 'RIGHT']\n",
        "        x, y = state\n",
        "\n",
        "        # Remove impossible actions based on grid boundaries and obstacles.\n",
        "        if x == 0 or self.grid[x - 1][y] == 1:\n",
        "            possible_actions.remove('UP')\n",
        "        if x == len(self.grid) - 1 or self.grid[x + 1][y] == 1:\n",
        "            possible_actions.remove('DOWN')\n",
        "        if y == 0 or self.grid[x][y - 1] == 1:\n",
        "            possible_actions.remove('LEFT')\n",
        "        if y == len(self.grid[0]) - 1 or self.grid[x][y + 1] == 1:\n",
        "            possible_actions.remove('RIGHT')\n",
        "\n",
        "        return possible_actions\n",
        "\n",
        "    # Returns the state resulting from taking a given action at a given state.\n",
        "    def result(self, state, action):\n",
        "        x, y = state\n",
        "        if action == 'UP':\n",
        "            return (x - 1, y)\n",
        "        if action == 'DOWN':\n",
        "            return (x + 1, y)\n",
        "        if action == 'LEFT':\n",
        "            return (x, y - 1)\n",
        "        if action == 'RIGHT':\n",
        "            return (x, y + 1)\n",
        "\n",
        "    # Checks if the goal has been reached.\n",
        "    def is_goal(self, state):\n",
        "        return state == self.goal"
      ]
    },
    {
      "cell_type": "markdown",
      "metadata": {
        "id": "MTGlsZjOgFyM"
      },
      "source": [
        "1. Robot\n",
        "• Implement a class Agent with movement capabilities and tracking of its\n",
        "current position. Include methods to manage the robot's energy levels and\n",
        "battery status, incorporating task optimization and safety for efficient and safe\n",
        "navigation.\n",
        "• Battery Management: The robot starts with a battery level of 100%. For each\n",
        "move from one block to another, the battery level decreases by 10%. If the\n",
        "battery level reaches 0%, the robot must recharge to 100% before continuing.\n",
        "\n",
        "2. Simulation\n",
        "• Simulate the robot's movement through the 10x10 grid with randomly placed\n",
        "obstacles, accounting for energy consumption and managing energy levels to\n",
        "complete tasks.\n",
        "3. Pathfinding Algorithms\n",
        "• Students are required to implement two pathfinding algorithms: Uniform Cost\n",
        "Search (UCS) and A* (A Star). Evaluate these algorithms based on the number\n",
        "of times the robot needs to recharge its battery while traversing the path to the\n",
        "goal. This will determine the best algorithm for this environment."
      ]
    },
    {
      "cell_type": "code",
      "execution_count": 22,
      "metadata": {
        "id": "x9osg9dlgFyM"
      },
      "outputs": [],
      "source": [
        "class Agent:\n",
        "    def __init__(self, env):\n",
        "        self.env = env  # The environment in which the agent operates.\n",
        "        self.battery = 100 # int((np.random.randint(100))/10)*10 Initial battery level\n",
        "\n",
        "    #battery section\n",
        "    def recharge(self):\n",
        "        self.battery = 100\n",
        "\n",
        "    def current_charge(self):\n",
        "        return self.battery\n",
        "\n",
        "    # Performs UCS search to find a path from the initial state to the goal.\n",
        "    def uniform_cost_search(self):\n",
        "        frontier = PriorityQueue()  # Priority queue for UCS.\n",
        "        frontier.put(Node(self.env.initial, path_cost=0), 0)\n",
        "        came_from = {self.env.initial: None}\n",
        "        cost_so_far = {self.env.initial: 0}\n",
        "\n",
        "        while not frontier.empty():\n",
        "            current_node = frontier.get()\n",
        "\n",
        "            if self.env.is_goal(current_node.state):\n",
        "                return self.reconstruct_path(came_from, current_node.state)\n",
        "\n",
        "            for action in self.env.actions(current_node.state):\n",
        "                new_state = self.env.result(current_node.state, action)\n",
        "                new_cost = cost_so_far[current_node.state] + 1  # Assuming uniform cost for simplicity; adjust if varying costs.\n",
        "                if new_state not in cost_so_far or new_cost < cost_so_far[new_state]:\n",
        "                    cost_so_far[new_state] = new_cost\n",
        "                    priority = new_cost\n",
        "                    frontier.put(Node(new_state, current_node, action, new_cost), priority)\n",
        "                    came_from[new_state] = current_node.state\n",
        "        return []\n",
        "\n",
        "    # This is a_star_search\n",
        "    def a_star_search(self):\n",
        "        #self.recharge()\n",
        "        # The start node is created with a path cost of 0.\n",
        "        start_node = Node(self.env.initial, path_cost=0)\n",
        "        frontier = PriorityQueue()\n",
        "        frontier.put(start_node, 0)  # Priority is f-cost, initially the heuristic cost from start to goal\n",
        "        came_from = {self.env.initial: None}  # Tracks the best path to a node\n",
        "        cost_so_far = {self.env.initial: 0}  # Tracks the g-cost (cost so far to reach a node)\n",
        "\n",
        "        while not frontier.empty():\n",
        "            current_node = frontier.get()\n",
        "\n",
        "            if self.env.is_goal(current_node.state):\n",
        "                return self.reconstruct_path(came_from, current_node.state)\n",
        "\n",
        "            for action in self.env.actions(current_node.state):\n",
        "                new_state = self.env.result(current_node.state, action)\n",
        "                new_cost = cost_so_far[current_node.state] + 1  # Assuming uniform cost for simplicity\n",
        "                if new_state not in cost_so_far or new_cost < cost_so_far[new_state]:\n",
        "                    cost_so_far[new_state] = new_cost\n",
        "                    priority = new_cost + heuristic(new_state, self.env.goal)  # f-cost = g-cost + h-cost\n",
        "                    frontier.put(Node(new_state, current_node, action, new_cost), priority)\n",
        "                    came_from[new_state] = current_node.state\n",
        "\n",
        "        return []\n",
        "\n",
        "    # Performs Uniform Cost Search to find the lowest cost path from the initial state to the goal.\n",
        "    def uniform_cost_search(self):\n",
        "        #self.recharge()\n",
        "        frontier = PriorityQueue()  # Priority queue for UCS.\n",
        "        frontier.put(Node(self.env.initial, path_cost=0), 0)\n",
        "        came_from = {self.env.initial: None}\n",
        "        cost_so_far = {self.env.initial: 0}\n",
        "\n",
        "        while not frontier.empty():\n",
        "            current_node = frontier.get()\n",
        "\n",
        "            if self.env.is_goal(current_node.state):\n",
        "                return self.reconstruct_path(came_from, current_node.state)\n",
        "\n",
        "            for action in self.env.actions(current_node.state):\n",
        "                new_state = self.env.result(current_node.state, action)\n",
        "                new_cost = cost_so_far[current_node.state] + 1  # Assuming uniform cost for simplicity; adjust if varying costs.\n",
        "                if new_state not in cost_so_far or new_cost < cost_so_far[new_state]:\n",
        "                    cost_so_far[new_state] = new_cost\n",
        "                    priority = new_cost\n",
        "                    frontier.put(Node(new_state, current_node, action, new_cost), priority)\n",
        "                    came_from[new_state] = current_node.state\n",
        "\n",
        "        return []\n",
        "\n",
        "    # Reconstructs the path from start to goal by following the came_from links.\n",
        "    def reconstruct_path(self, came_from, current):\n",
        "        path = []\n",
        "        #charge = []\n",
        "        while current in came_from:\n",
        "            path.append(current)\n",
        "            current = came_from[current]\n",
        "\n",
        "        path.append(self.env.initial)  # Start is not included in the came_from map.\n",
        "        path.reverse()  # Reverse to get the path from start to goal.\n",
        "        return path\n",
        "\n",
        "    # Battery Charging point and management\n",
        "    def battery_manager(self, path):\n",
        "        self.recharge()\n",
        "        charge = []\n",
        "\n",
        "        for i in range(len(path)):\n",
        "            if self.current_charge() <= 10:\n",
        "                charge.append(path[i])\n",
        "                self.recharge()\n",
        "                pass\n",
        "            elif path[i] != (0, 0):\n",
        "                self.battery = self.current_charge() - 10\n",
        "                pass\n",
        "            print(f\"{path[i]} = {self.current_charge()}\")\n",
        "\n",
        "\n",
        "        return charge\n"
      ]
    },
    {
      "cell_type": "markdown",
      "metadata": {
        "id": "JuoN4b8OgFyN"
      },
      "source": [
        "For visualization\n"
      ]
    },
    {
      "cell_type": "code",
      "execution_count": 23,
      "metadata": {
        "id": "y4bGb1qOgFyN"
      },
      "outputs": [],
      "source": [
        "# Visualization Function plots the grid and the found path.\n",
        "def visualize_grid_and_path(grid, path, charge):\n",
        "    grid_array = np.array(grid)  # Convert grid to numpy array for easy plotting.\n",
        "    fig, ax = plt.subplots()\n",
        "    ax.imshow(grid_array, cmap='coolwarm', alpha=0.3)  # Grid background.\n",
        "    start = path[0]\n",
        "    goal = path[-1]\n",
        "    ax.plot(goal[1], goal[0], 'bs', markersize=10)  # goal position in blue.\n",
        "    ax.plot(start[1], start[0], 'ks', markersize=10)  # start position in black.\n",
        "    if (charge is not None) :\n",
        "        xc, yc = zip(*charge)\n",
        "        ax.plot(yc, xc, 'gs', markersize=10)# charging position are in green.\n",
        "\n",
        "    xs, ys = zip(*path)  # Extract X and Y coordinates of the path.\n",
        "    ax.plot(ys, xs, 'r-', linewidth=2)  # Plot the path in red.\n",
        "    ax.set_xticks(np.arange(-.5, len(grid[0]), 1), minor=True)\n",
        "    ax.set_yticks(np.arange(-.5, len(grid), 1), minor=True)\n",
        "\n",
        "    ax.grid(which=\"minor\", color=\"b\", linestyle='-', linewidth=1)\n",
        "    ax.tick_params(which=\"minor\", size=0)\n",
        "    ax.tick_params(which=\"major\", bottom=False, left=False, labelbottom=False, labelleft=False)\n",
        "    plt.show()"
      ]
    },
    {
      "cell_type": "markdown",
      "metadata": {
        "id": "KT0FmzXWgFyO"
      },
      "source": [
        "driver code.\n",
        "\n",
        "<h3>output serial</h3>\n",
        "<hr>\n",
        "1st --> UFS<br>\n",
        "2nd --> A Star"
      ]
    },
    {
      "cell_type": "code",
      "execution_count": 24,
      "metadata": {
        "id": "lfhF7rNPgFyO",
        "outputId": "590fe69a-f051-448a-b5ce-8a71e7ae6aa0",
        "colab": {
          "base_uri": "https://localhost:8080/",
          "height": 1000
        }
      },
      "outputs": [
        {
          "output_type": "stream",
          "name": "stdout",
          "text": [
            "This is the solution using Uniform Cost Search algorithm\n",
            "(0, 0) = 100\n",
            "(0, 0) = 100\n",
            "(1, 0) = 90\n",
            "(2, 0) = 80\n",
            "(3, 0) = 70\n",
            "(3, 1) = 60\n",
            "(3, 2) = 50\n",
            "(4, 2) = 40\n",
            "(5, 2) = 30\n",
            "(5, 3) = 20\n",
            "(5, 4) = 10\n",
            "(5, 5) = 100\n",
            "(6, 5) = 90\n",
            "(6, 6) = 80\n",
            "(6, 7) = 70\n",
            "(7, 7) = 60\n",
            "(8, 7) = 50\n",
            "(9, 7) = 40\n",
            "(9, 8) = 30\n",
            "(9, 9) = 20\n",
            "Charging Points: [(5, 5)]\n"
          ]
        },
        {
          "output_type": "display_data",
          "data": {
            "text/plain": [
              "<Figure size 640x480 with 1 Axes>"
            ],
            "image/png": "[encoded data removed]"
          },
          "metadata": {}
        },
        {
          "output_type": "stream",
          "name": "stdout",
          "text": [
            "This is the solution using A* Search algorithm\n",
            "(0, 0) = 100\n",
            "(0, 0) = 100\n",
            "(1, 0) = 90\n",
            "(2, 0) = 80\n",
            "(3, 0) = 70\n",
            "(3, 1) = 60\n",
            "(3, 2) = 50\n",
            "(4, 2) = 40\n",
            "(5, 2) = 30\n",
            "(6, 2) = 20\n",
            "(6, 3) = 10\n",
            "(6, 4) = 100\n",
            "(6, 5) = 90\n",
            "(6, 6) = 80\n",
            "(7, 6) = 70\n",
            "(7, 7) = 60\n",
            "(8, 7) = 50\n",
            "(9, 7) = 40\n",
            "(9, 8) = 30\n",
            "(9, 9) = 20\n",
            "Charging Points: [(6, 4)]\n"
          ]
        },
        {
          "output_type": "display_data",
          "data": {
            "text/plain": [
              "<Figure size 640x480 with 1 Axes>"
            ],
            "image/png": "[encoded data removed]"
          },
          "metadata": {}
        }
      ],
      "source": [
        "def generate_random_grid(size, obstacle_probability):\n",
        "    return np.random.choice([0, 1], size=(size, size), p=[1-obstacle_probability, obstacle_probability])\n",
        "\n",
        "# Define the size of the grid and the probability of an obstacle in each cell\n",
        "grid_size = 10\n",
        "obstacle_probability = 0.20  # 20% chance of being an obstacle\n",
        "\n",
        "# Generate a random grid\n",
        "grid = generate_random_grid(grid_size, obstacle_probability)\n",
        "\n",
        "# Define start and goal positions\n",
        "start = (0, 0)\n",
        "goal = (grid_size - 1, grid_size - 1)\n",
        "\n",
        "# Ensure start and goal are not obstacles\n",
        "grid[start] = 0\n",
        "grid[goal] = 0\n",
        "\n",
        "# Create the environment and agent\n",
        "environment = Environment(grid, start, goal)\n",
        "agent = Agent(environment)\n",
        "\n",
        "# Solve the problem with the UCS algorithm\n",
        "print(\"This is the solution using Uniform Cost Search algorithm\")\n",
        "solution_path_ucs = agent.uniform_cost_search()\n",
        "charging_point = agent.battery_manager(solution_path_ucs)\n",
        "#print(\"Solution Path:\", solution_path_ucs)\n",
        "print(\"Charging Points:\", charging_point)\n",
        "\n",
        "# Visualize the solution\n",
        "visualize_grid_and_path(grid, solution_path_ucs, charging_point)\n",
        "\n",
        "# Solve the problem with the A* algorithm\n",
        "print(\"This is the solution using A* Search algorithm\")\n",
        "solution_path_a_star = agent.a_star_search()\n",
        "charging_point = agent.battery_manager(solution_path_a_star)\n",
        "#print(\"Solution Path:\", solution_path_a_star)\n",
        "print(\"Charging Points:\", charging_point)\n",
        "\n",
        "# Visualize the solution\n",
        "visualize_grid_and_path(grid, solution_path_a_star, charging_point)"
      ]
    }
  ],
  "metadata": {
    "kernelspec": {
      "display_name": "base",
      "language": "python",
      "name": "python3"
    },
    "language_info": {
      "codemirror_mode": {
        "name": "ipython",
        "version": 3
      },
      "file_extension": ".py",
      "mimetype": "text/x-python",
      "name": "python",
      "nbconvert_exporter": "python",
      "pygments_lexer": "ipython3",
      "version": "3.11.4"
    },
    "colab": {
      "provenance": []
    }
  },
  "nbformat": 4,
  "nbformat_minor": 0
}